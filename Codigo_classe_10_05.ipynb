{
 "cells": [
  {
   "cell_type": "code",
   "execution_count": null,
   "metadata": {},
   "outputs": [],
   "source": [
    "for produto in range(0,4):\n",
    "    p = str(input(\"Digite o nome do produto:\"))\n",
    "    v = float(input(\"Digite o valor do produto:\"))"
   ]
  },
  {
   "cell_type": "code",
   "execution_count": null,
   "metadata": {},
   "outputs": [],
   "source": [
    "for elemento in [1,2,3,4,5,6]:\n",
    "    print(f\"Estamos no elemento: {elemento}\")"
   ]
  },
  {
   "cell_type": "code",
   "execution_count": null,
   "metadata": {},
   "outputs": [],
   "source": [
    "for elemento in 'STRING':\n",
    "    print(f\"Estamos no elemento: {elemento}\")"
   ]
  },
  {
   "cell_type": "code",
   "execution_count": null,
   "metadata": {},
   "outputs": [],
   "source": [
    "for elemento in range(len('STRING')):\n",
    "    print(f\"Estamos no elemento: {elemento}\")"
   ]
  },
  {
   "cell_type": "code",
   "execution_count": null,
   "metadata": {},
   "outputs": [],
   "source": [
    "produto = 0\n",
    "while produto < 4:\n",
    "    p = str(input(\"Digite o nome do produto:\"))\n",
    "    v = float(input(\"Digite o valor do produto:\"))\n",
    "    produto += 1"
   ]
  },
  {
   "cell_type": "code",
   "execution_count": null,
   "metadata": {},
   "outputs": [],
   "source": [
    "elemento = 0\n",
    "while elemento <= len([1,2,3,4,5,6]):\n",
    "    print(f\"Estamos no elemento:{elemento}\")\n",
    "    elemento+=1   "
   ]
  },
  {
   "cell_type": "code",
   "execution_count": 4,
   "metadata": {},
   "outputs": [
    {
     "name": "stdout",
     "output_type": "stream",
     "text": [
      "Estamos no elemento S\n",
      "Estamos no elemento t\n",
      "Estamos no elemento r\n",
      "Estamos no elemento i\n",
      "Estamos no elemento n\n",
      "Estamos no elemento g\n"
     ]
    }
   ],
   "source": [
    "s = 'String'\n",
    "indice = 0\n",
    "\n",
    "while indice in range(len(s)):\n",
    "    print('Estamos no elemento', s[indice])\n",
    "    indice+=1"
   ]
  },
  {
   "cell_type": "code",
   "execution_count": 5,
   "metadata": {},
   "outputs": [
    {
     "name": "stdout",
     "output_type": "stream",
     "text": [
      "0 t\n",
      "1 r\n",
      "2 a\n",
      "3 n\n",
      "4 q\n",
      "5 u\n",
      "6 i\n",
      "7 l\n",
      "8 o\n"
     ]
    }
   ],
   "source": [
    "palavra='tranquilo'\n",
    "for indice, letra in enumerate(palavra):\n",
    "    print(indice, letra)"
   ]
  },
  {
   "cell_type": "code",
   "execution_count": 8,
   "metadata": {},
   "outputs": [
    {
     "name": "stdout",
     "output_type": "stream",
     "text": [
      "13\n",
      "oi\n",
      "oi\n",
      "oi\n",
      "oi\n",
      "oi\n"
     ]
    }
   ],
   "source": [
    "s = \"viva o python\"\n",
    "print(len(s))\n",
    "for ch in s:\n",
    "    print('oi')"
   ]
  },
  {
   "cell_type": "code",
   "execution_count": 9,
   "metadata": {},
   "outputs": [
    {
     "name": "stdout",
     "output_type": "stream",
     "text": [
      "a o p\n",
      "oi\n",
      "oi\n",
      "oi\n",
      "oi\n",
      "oi\n"
     ]
    }
   ],
   "source": [
    "s = \"viva o python\"\n",
    "print(s[3:8])\n",
    "for ch in s[3:8]:\n",
    "    print('oi')"
   ]
  },
  {
   "cell_type": "code",
   "execution_count": 14,
   "metadata": {},
   "outputs": [
    {
     "name": "stdout",
     "output_type": "stream",
     "text": [
      "Ao final teremos 4 pares e 6 ímpares\n"
     ]
    }
   ],
   "source": [
    "qnt_par = 0\n",
    "qnt_impar = 0\n",
    "for n in range(1,11):\n",
    "    numero_usuario = int(input('Digite um número para verificar se é par ou ímpar'))\n",
    "    if numero_usuario%2==0:\n",
    "        qnt_par+=1\n",
    "    else:\n",
    "        qnt_impar+=1\n",
    "    \n",
    "print(f\"Ao final teremos {qnt_par} pares e {qnt_impar} ímpares\")\n",
    "        "
   ]
  }
 ],
 "metadata": {
  "kernelspec": {
   "display_name": "Python 3",
   "language": "python",
   "name": "python3"
  },
  "language_info": {
   "codemirror_mode": {
    "name": "ipython",
    "version": 3
   },
   "file_extension": ".py",
   "mimetype": "text/x-python",
   "name": "python",
   "nbconvert_exporter": "python",
   "pygments_lexer": "ipython3",
   "version": "3.10.11"
  }
 },
 "nbformat": 4,
 "nbformat_minor": 2
}
