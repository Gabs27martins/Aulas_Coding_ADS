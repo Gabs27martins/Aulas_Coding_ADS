{
 "cells": [
  {
   "cell_type": "code",
   "execution_count": null,
   "metadata": {},
   "outputs": [],
   "source": [
    "# Criando classe\n",
    "\n",
    "class Animal():\n",
    "\n",
    "    def __init__(self, name, weight, color):\n",
    "        self.nome = name\n",
    "        self.peso = weight\n",
    "        self.corDoPelo = color\n",
    "\n",
    "    def imprimirDados(self):\n",
    "        return ((\"Nome: %s \\nPeso: %s\") %(self.nome, self.peso))\n",
    "\n",
    "    def latir(self, barulho):\n",
    "        print(barulho)   "
   ]
  },
  {
   "cell_type": "code",
   "execution_count": null,
   "metadata": {},
   "outputs": [],
   "source": [
    "# Instanciando um objeto\n",
    "caozinho = Animal('Marlene',7.9,'Caramelo')\n",
    "gato = Animal('Cibele', 4.5, 'Cinza')\n",
    "\n",
    "# Chamando o método do objeto criado\n",
    "print(caozinho.imprimirDados())\n",
    "caozinho.latir(\"Au,Au!\")\n",
    "\n",
    "print(gato.imprimirDados())\n",
    "gato.latir('Miau!')"
   ]
  },
  {
   "cell_type": "code",
   "execution_count": null,
   "metadata": {},
   "outputs": [],
   "source": [
    "# Criando a classe livro\n",
    "\n",
    "class Livro():\n",
    "\n",
    "    def __init__(self, titulo, isbn):\n",
    "        self.titulo = titulo\n",
    "        self.isbn = isbn\n",
    "        print(\"Construtor chamado para criar um objeto desta classe\")\n",
    "\n",
    "    def imprime(self):\n",
    "        print(\"Foi criado o livro %s e ISBN %d\" %(self.titulo,self.isbn)) "
   ]
  },
  {
   "cell_type": "code",
   "execution_count": null,
   "metadata": {},
   "outputs": [],
   "source": [
    "livro1 = Livro('O monge e o Executivo', 99888888)\n",
    "type(livro1)"
   ]
  },
  {
   "cell_type": "code",
   "execution_count": null,
   "metadata": {},
   "outputs": [],
   "source": [
    "livro1.titulo"
   ]
  },
  {
   "cell_type": "code",
   "execution_count": null,
   "metadata": {},
   "outputs": [],
   "source": [
    "livro2 = Livro(\"A Menina que Roubava Livros\",77886611)"
   ]
  },
  {
   "cell_type": "code",
   "execution_count": null,
   "metadata": {},
   "outputs": [],
   "source": [
    "class Pessoa():\n",
    "    \n",
    "    def __init__(self,name,age):\n",
    "        self.nome = name\n",
    "        self.idade = age\n",
    "\n",
    "    def nascimento(self):\n",
    "        return 2024-self.idade "
   ]
  },
  {
   "cell_type": "code",
   "execution_count": null,
   "metadata": {},
   "outputs": [],
   "source": [
    "listaPessoas = []\n",
    "for i in range(5):\n",
    "    nome= str(input('Nome:'))\n",
    "    idade= int(input('Idade:'))\n",
    "    pessoa = Pessoa(nome,idade)\n",
    "    listaPessoas.append(pessoa)"
   ]
  },
  {
   "cell_type": "code",
   "execution_count": null,
   "metadata": {},
   "outputs": [],
   "source": [
    "if listaPessoas:\n",
    "    for objeto in range(len(listaPessoas)):\n",
    "        print((\"Nome: %s, idade: %d\") %(listaPessoas[objeto].nome, listaPessoas[objeto].idade))    "
   ]
  }
 ],
 "metadata": {
  "kernelspec": {
   "display_name": "Python 3",
   "language": "python",
   "name": "python3"
  },
  "language_info": {
   "name": "python",
   "version": "3.11.8"
  }
 },
 "nbformat": 4,
 "nbformat_minor": 2
}
