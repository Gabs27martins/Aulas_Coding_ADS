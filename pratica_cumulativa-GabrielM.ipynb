{
 "cells": [
  {
   "cell_type": "code",
   "execution_count": null,
   "metadata": {},
   "outputs": [],
   "source": [
    "#  Algoritmo\n",
    "# Prática cumulativa"
   ]
  },
  {
   "cell_type": "code",
   "execution_count": 7,
   "metadata": {},
   "outputs": [
    {
     "name": "stdout",
     "output_type": "stream",
     "text": [
      "A letra digitada é uma vogal!\n"
     ]
    }
   ],
   "source": [
    "#  Questão 1 - Algoritmo para verificar se é vogal ou consoante.\n",
    "\n",
    "digite_letra = input('Digite uma única letra')\n",
    "lista_vogais = ['a','e','i','o','u']\n",
    "if (len(digite_letra) > 1):\n",
    "    print(\"Digitação inválida, você digitou mais de uma letra\")\n",
    "elif digite_letra in lista_vogais:\n",
    "    print(f\"A letra digitada é uma vogal!\")\n",
    "else:\n",
    "    print(f\"A letra digitada é uma consoante!\")    "
   ]
  },
  {
   "cell_type": "code",
   "execution_count": 46,
   "metadata": {},
   "outputs": [
    {
     "name": "stdout",
     "output_type": "stream",
     "text": [
      "O produto mais barato é o produto 2 no preço de: R$1.0\n"
     ]
    }
   ],
   "source": [
    "#  Questão 2 - Algoritmo para verificar qual produto é mais barato.\n",
    "produto_1 = float(input(\"Qual o preço do produto 1?\"))\n",
    "produto_2 = float(input(\"Qual o preço do produto 2?\"))\n",
    "produto_3 = float(input(\"Qual o preço do produto 3?\"))\n",
    "\n",
    "if produto_1 > produto_2 and produto_3 > produto_2:\n",
    "    print(f\"O produto mais barato é o produto 2 no preço de: R${produto_2}\")\n",
    "elif produto_1 > produto_3 and produto_2 > produto_3:\n",
    "    print(f\"O produto mais barato é o produto 3 no preço de: R${produto_3}\")\n",
    "elif produto_1 < produto_3 and produto_1 < produto_2:\n",
    "    print(f\"O produto mais barato é o produto 1 no preço de: R${produto_1}\")\n",
    "elif  produto_2 < produto_3 and produto_2 == produto_1:\n",
    "    print(f\"Escolha entre o produto 1 e 2, pois os preços são iguais: R${produto_1}\")\n",
    "elif  produto_2 < produto_1 and produto_2 == produto_3:\n",
    "    print(f\"Escolha entre o produto 2 e 3, pois os preços são iguais: R${produto_2}\")\n",
    "elif  produto_2 > produto_1 and produto_1 == produto_3:\n",
    "    print(f\"Escolha entre o produto 1 e 3, pois os preços são iguais: R${produto_1}\") \n",
    "else:\n",
    "     print(f\"Escolha qualquer produto, pois todos tem o mesmo preços: R${produto_1}\")      \n",
    "                          "
   ]
  },
  {
   "cell_type": "code",
   "execution_count": 24,
   "metadata": {},
   "outputs": [
    {
     "name": "stdout",
     "output_type": "stream",
     "text": [
      "70.0\n",
      "60.0\n",
      "50.0\n"
     ]
    }
   ],
   "source": [
    "# Questão 3 - Ordenar três números em ordem descrecente\n",
    "num1 = float(input(\"Digite um número?\"))\n",
    "num2 = float(input(\"Digite outro número\"))\n",
    "num3 = float(input(\"Digite um terceiro número\"))\n",
    "lista_numeros_ordenada = [num1,num2,num3]\n",
    "\n",
    "if num1 > num2 and num1 > num3:\n",
    "    lista_numeros_ordenada[0] = num1\n",
    "    if num2 > num3:\n",
    "        lista_numeros_ordenada[1] = num2\n",
    "        lista_numeros_ordenada[2] = num3\n",
    "    else:\n",
    "        lista_numeros_ordenada[1] = num3\n",
    "        lista_numeros_ordenada[2] = num2  \n",
    "elif num2 > num3 and num2 > num1:        \n",
    "    lista_numeros_ordenada[0] = num2\n",
    "    if num1 > num3:\n",
    "        lista_numeros_ordenada[1] = num1\n",
    "        lista_numeros_ordenada[2] = num3\n",
    "    else:\n",
    "        lista_numeros_ordenada[1] = num3\n",
    "        lista_numeros_ordenada[2] = num1\n",
    "elif num3 > num1 and num3 > num2:        \n",
    "    lista_numeros_ordenada[0] = num3\n",
    "    if num1 > num2:\n",
    "        lista_numeros_ordenada[1] = num1\n",
    "        lista_numeros_ordenada[2] = num2\n",
    "    else:\n",
    "        lista_numeros_ordenada[1] = num2\n",
    "        lista_numeros_ordenada[2] = num1\n",
    "elif num1 > num2 and num1 == num3:\n",
    "    lista_numeros_ordenada[0] = num1                \n",
    "    lista_numeros_ordenada[1] = num3                \n",
    "    lista_numeros_ordenada[2] = num2\n",
    "elif num1 > num3 and num1 == num2:\n",
    "    lista_numeros_ordenada[0] = num1                \n",
    "    lista_numeros_ordenada[1] = num2                \n",
    "    lista_numeros_ordenada[2] = num3\n",
    "elif num2 > num1 and num3 == num2:\n",
    "    lista_numeros_ordenada[0] = num2                \n",
    "    lista_numeros_ordenada[1] = num3                \n",
    "    lista_numeros_ordenada[2] = num1                         \n",
    "\n",
    "for numero in lista_numeros_ordenada:\n",
    "    print(numero)\n",
    "              "
   ]
  },
  {
   "cell_type": "code",
   "execution_count": 4,
   "metadata": {},
   "outputs": [
    {
     "name": "stdout",
     "output_type": "stream",
     "text": [
      "Boa noite!\n"
     ]
    }
   ],
   "source": [
    "# Questão 4 -Algoritmo para retornar um comprimento de acordo com horário de estudo.\n",
    "\n",
    "turno_estudante = input(\"Em qual turno você estuda? Digite M-matutino, V-vespertino ou N-noturno\").lower()\n",
    "\n",
    "if turno_estudante == \"m\":\n",
    "    print(\"Bom dia!\")\n",
    "elif turno_estudante == \"v\":\n",
    "    print(\"Boa tarde!\")\n",
    "elif turno_estudante == \"n\":\n",
    "    print(\"Boa noite!\")\n",
    "else:\n",
    "    print(\"Valor inválido!\")           "
   ]
  },
  {
   "cell_type": "code",
   "execution_count": 7,
   "metadata": {},
   "outputs": [
    {
     "name": "stdout",
     "output_type": "stream",
     "text": [
      "O dia correspondente é: 2-Segunda\n"
     ]
    }
   ],
   "source": [
    "#  Questão 5 - Programa que leia números e retorne o dia da semana de acordo com a ordem dos dias.\n",
    "\n",
    "lista_dias = [\"Domingo\",\"Segunda\",\"Terça\",\"Quarta\", \"Quinta\", \"Sexta\", \"Sábado\"]\n",
    "numero_informado = int(input(\"Digite um número entre um 1 e 7 para saber o dia da semana\"))\n",
    "\n",
    "if numero_informado > 0 and numero_informado <= len(lista_dias):\n",
    "    print(f\"O dia correspondente é: {numero_informado}-{lista_dias[numero_informado - 1]}\")\n",
    "else:\n",
    "    print(\"Valor inválido\")     "
   ]
  },
  {
   "cell_type": "code",
   "execution_count": 17,
   "metadata": {},
   "outputs": [
    {
     "name": "stdout",
     "output_type": "stream",
     "text": [
      "Histórico do aluno\n",
      " Notas: 4.0 e 3.0 \n",
      " Média: 3.5 \n",
      " Conceito: E\n",
      " Situação final: REPROVADO\n"
     ]
    }
   ],
   "source": [
    "#  Questão 6 - Programa que leia as notas do aluno e retorne as mesmas, a média, o conceito e se foi aprovado.\n",
    "\n",
    "nota1 = float(input(\"Informe a primeira nota do aluno\"))\n",
    "nota2 = float(input(\"Informe a segunda nota do aluno\"))\n",
    "media = (nota1 + nota2)/2\n",
    "conceito = \"\"\n",
    "status = \"\"\n",
    "\n",
    "if (nota1 > 10 or nota1 < 0) or (nota2 > 10 or nota2 < 0):\n",
    "    print(\"Valor inválido para as notas, sendo alguma acima de 10 ou menor que 0\")\n",
    "else:    \n",
    "    if media > 9:\n",
    "        conceito = \"A\"\n",
    "        status = \"APROVADO\"\n",
    "        print(f\"Histórico do aluno\\n Notas: {nota1} e {nota2} \\n Média: {media} \\n Conceito: {conceito}\\n Situação final: {status}\")\n",
    "    elif media > 7.5:\n",
    "        conceito = \"B\"\n",
    "        status = \"APROVADO\"\n",
    "        print(f\"Histórico do aluno\\n Notas: {nota1} e {nota2} \\n Média: {media} \\n Conceito: {conceito}\\n Situação final: {status}\")\n",
    "    elif media > 6:\n",
    "        conceito = \"C\"\n",
    "        status = \"APROVADO\"\n",
    "        print(f\"Histórico do aluno\\n Notas: {nota1} e {nota2} \\n Média: {media} \\n Conceito: {conceito}\\n Situação final: {status}\")\n",
    "    elif media > 4:\n",
    "        conceito = \"D\"\n",
    "        status = \"REPROVADO\"\n",
    "        print(f\"Histórico do aluno\\n Notas: {nota1} e {nota2} \\n Média: {media} \\n Conceito: {conceito}\\n Situação final: {status}\")\n",
    "    else:\n",
    "        conceito = \"E\"\n",
    "        status = \"REPROVADO\"\n",
    "        print(f\"Histórico do aluno\\n Notas: {nota1} e {nota2} \\n Média: {media} \\n Conceito: {conceito}\\n Situação final: {status}\")                "
   ]
  },
  {
   "cell_type": "code",
   "execution_count": 21,
   "metadata": {},
   "outputs": [
    {
     "name": "stdout",
     "output_type": "stream",
     "text": [
      "Este ano é Bissexto!\n"
     ]
    }
   ],
   "source": [
    "#  Questão 7 - Programa que verifica se o ano é bissexto.\n",
    "# Condição para o ano ser bissexto: divisível por 4 e não ser divisível por 100, exceto quando também é divisível por 400\n",
    "ano_inf = int(input(\"Informe um ano para verificar se é bissexto\"))\n",
    "\n",
    "if ano_inf % 4 == 0:\n",
    "    if ano_inf % 100 == 0:\n",
    "        if ano_inf % 400 == 0:\n",
    "            print(\"Este ano é Bissexto!\")\n",
    "        else:\n",
    "            print(\"Este ano não é Bissexto!\") \n",
    "    else:\n",
    "        print(\"Este ano é Bissexto!\")   \n",
    "else:\n",
    "    print(\"Este ano não é Bissexto!\")                  \n"
   ]
  },
  {
   "cell_type": "code",
   "execution_count": 29,
   "metadata": {},
   "outputs": [
    {
     "name": "stdout",
     "output_type": "stream",
     "text": [
      "Resultado é 5.0 sendo positivo, inteiro e ímpar\n"
     ]
    }
   ],
   "source": [
    "# Questão 8 - Escolha operação, os números e retorne algumas informações\n",
    "num1 = float(input(\"Informe o primeira número\"))\n",
    "operacao = input(\"Informe qual operação vai realizar. Soma: '+'; Subtração: '-'; Multiplicação: '*'; Divisão: '/'; Exponenciação: '**'\")\n",
    "num2 = float(input(\"Informe o primeira número\"))\n",
    "resultado = 0\n",
    "par_impar = ''\n",
    "inteiro_decimal = ''\n",
    "positivo_negativo = ''\n",
    "\n",
    "# Operação\n",
    "\n",
    "if operacao == \"+\":\n",
    "    resultado = num1 + num2\n",
    "elif operacao == \"-\":\n",
    "    resultado = num1 - num2\n",
    "elif operacao == \"*\":\n",
    "    resultado = num1 * num2\n",
    "elif operacao == \"/\":\n",
    "    resultado = num1 / num2\n",
    "elif operacao == '**':\n",
    "    resultado = num1 ** num2\n",
    "else:\n",
    "    print(\"Operação inválida!\")\n",
    "    \n",
    "# Verificar se é par ou ímpar\n",
    "\n",
    "if resultado%2==0:\n",
    "    par_impar = 'par'\n",
    "else:\n",
    "    par_impar = 'ímpar'\n",
    "\n",
    "# Verificar se é positivo ou negativo\n",
    "\n",
    "if resultado < 0 and str(resultado)[-1]=='0' :\n",
    "    positivo_negativo = 'negativo'\n",
    "    inteiro_decimal = 'inteiro'\n",
    "elif resultado > 0 and str(resultado)[-1]=='0': \n",
    "    positivo_negativo = 'positivo'\n",
    "    inteiro_decimal = 'inteiro'\n",
    "else:\n",
    "    inteiro_decimal = 'decimal'    \n",
    "\n",
    "\n",
    "\n",
    "print(f\"Resultado é {resultado} sendo {positivo_negativo}, {inteiro_decimal} e {par_impar}\")\n"
   ]
  },
  {
   "cell_type": "code",
   "execution_count": 33,
   "metadata": {},
   "outputs": [
    {
     "name": "stdout",
     "output_type": "stream",
     "text": [
      "Valor inváldio para idade do usuário!\n"
     ]
    }
   ],
   "source": [
    "# Questão 9 - Programa para mostrar a idade com restrições\n",
    "idade_usuario = int(input(\"Informe a idade do usuário\"))\n",
    "if idade_usuario < 0 or idade_usuario > 150:\n",
    "    print(\"Valor inváldio para idade do usuário!\")\n",
    "else:\n",
    "    print(f\"A idade do usuário é {idade_usuario}\")\n"
   ]
  },
  {
   "cell_type": "code",
   "execution_count": 39,
   "metadata": {},
   "outputs": [
    {
     "name": "stdout",
     "output_type": "stream",
     "text": [
      "A soma dos números é 180 e a media de 30.0\n"
     ]
    }
   ],
   "source": [
    "# Questão 10 - Programa para ler 5 números e retornar média e soma, utilizando repetições\n",
    "lista_numeros = [20, 33, 58, 10, 50, 9]\n",
    "soma = 0\n",
    "media = 0\n",
    "\n",
    "for numero in lista_numeros:\n",
    "    soma+=numero\n",
    "\n",
    "media = soma/ len(lista_numeros)\n",
    "\n",
    "print(f\"A soma dos números é {soma} e a media de {media}\")"
   ]
  },
  {
   "cell_type": "code",
   "execution_count": 53,
   "metadata": {},
   "outputs": [
    {
     "name": "stdout",
     "output_type": "stream",
     "text": [
      "O número é primo\n"
     ]
    }
   ],
   "source": [
    "# Questão 11 - Verificar se o número é primo\n",
    "num_verificacao = int(input(\"Informe um número para verificar se é primo\"))\n",
    "primo = True\n",
    "#  Criando um range para verificar se o número possui algum divisor além de 1 e ele mesmo, sendo 2 o primeiro divisor e a metade do número o maior\n",
    "for div in range(2, (num_verificacao//2)+1):\n",
    "    if num_verificacao%div == 0:\n",
    "        primo = False\n",
    "\n",
    "if not primo or num_verificacao == 1:\n",
    "    print(\"O número não é primo\")\n",
    "else:\n",
    "    print(\"O número é primo\")    "
   ]
  },
  {
   "cell_type": "code",
   "execution_count": 3,
   "metadata": {},
   "outputs": [
    {
     "name": "stdout",
     "output_type": "stream",
     "text": [
      "Temperatura mais baixa: 6°C.\n",
      "Temperatura mais alta: 35°C. \n",
      "Média das temperaturas: 21.8°C.\n"
     ]
    }
   ],
   "source": [
    "# Questão 12 - Programa que leia 5 temperaturas e retorne a menor, o maior e a média\n",
    "#  A temperatura mais baixa inicial foi de 100 graus celsius, pois desta forma qualquer temperatura captada será menor que inicial\n",
    "temp_lista = [17, 22, 29, 35, 6]\n",
    "temp_mais_alta = 0\n",
    "temp_mais_baixa = 150\n",
    "media = 0\n",
    "for temp in temp_lista:\n",
    "    media+=temp  \n",
    "    if temp_mais_alta < temp:\n",
    "        temp_mais_alta = temp\n",
    "    if temp_mais_baixa > temp:\n",
    "        temp_mais_baixa = temp\n",
    "media/= len(temp_lista)\n",
    "print(f\"Temperatura mais baixa: {temp_mais_baixa}°C.\\nTemperatura mais alta: {temp_mais_alta}°C. \\nMédia das temperaturas: {media}°C.\")    "
   ]
  },
  {
   "cell_type": "code",
   "execution_count": 5,
   "metadata": {},
   "outputs": [
    {
     "name": "stdout",
     "output_type": "stream",
     "text": [
      "O cliente Chico tem saldo médio de R$100 e possui um crédito de R$0 \n",
      "O cliente Jorge tem saldo médio de R$500 e possui um crédito de R$150.0 \n",
      "O cliente Alçeu tem saldo médio de R$1500 e possui um crédito de R$600.0 \n",
      "O cliente Fred tem saldo médio de R$220 e possui um crédito de R$44.0 \n",
      "O cliente Otto tem saldo médio de R$450 e possui um crédito de R$135.0 \n"
     ]
    }
   ],
   "source": [
    "# Questão 13 - Programa para ler o saldo médio do cliente e informar a disponibilidade de crédito\n",
    "\n",
    "saldo_medio_clientes = [100,500,1500,220,450]\n",
    "nome_clientes = [\"Chico\", \"Jorge\", \"Alçeu\", \"Fred\", \"Otto\"]\n",
    "credito = 0\n",
    "\n",
    "for saldo in saldo_medio_clientes:\n",
    "    if saldo > 601:\n",
    "        credito = 0.4*saldo\n",
    "    elif saldo > 400:\n",
    "        credito = 0.3*saldo\n",
    "    elif saldo > 200:\n",
    "        credito = 0.2*saldo\n",
    "    print(f\"O cliente {nome_clientes[saldo_medio_clientes.index(saldo)]} tem saldo médio de R${saldo} e possui um crédito de R${credito} \")            "
   ]
  },
  {
   "cell_type": "code",
   "execution_count": 10,
   "metadata": {},
   "outputs": [
    {
     "name": "stdout",
     "output_type": "stream",
     "text": [
      "Valor inválido\n"
     ]
    }
   ],
   "source": [
    "#  Questão 14 - Programa para informar a pessoa em que ano ela poderá se aposentar dados os inputs\n",
    "\n",
    "nome_contribuinte = input(\"Informe o seu nome completo:\")\n",
    "idade_contribuinte = int(input(\"Informe a sua idade:\"))\n",
    "ano_corrente = int(input(\"Informe o ano da consulta:\"))\n",
    "idade_aposentadoria = 65\n",
    "ano_aposentadoria = (idade_aposentadoria - idade_contribuinte) + ano_corrente\n",
    "\n",
    "if idade_contribuinte < 0 or ano_corrente < 0:\n",
    "    print(\"Valor inválido foi inserido!\")\n",
    "else:\n",
    "    print(f\"{nome_contribuinte} poderá se aposentar no ano {ano_aposentadoria}.\")\n"
   ]
  },
  {
   "cell_type": "code",
   "execution_count": 15,
   "metadata": {},
   "outputs": [
    {
     "name": "stdout",
     "output_type": "stream",
     "text": [
      "O seu salário bruto é de R$3520.0 e o líquido é de R$2886.3999999999996 \n"
     ]
    }
   ],
   "source": [
    "#  Questão 15 - Programa para informar o salário líquido do trabalhador de acordo com salário hora e quantidade de hora trabalhadas\n",
    "\n",
    "salario_hora =float(input(\"Informe o quanto você recebe por hora (salário hora):\"))\n",
    "# Foi assumido que as horas trabalhadas devem ser inteiras, sem banco de horas ou afins.\n",
    "horas_trabalhadas_mes =int(input(\"Informe quantas horas foram trabalhadas nesse mês:\"))\n",
    "salario_bruto = salario_hora*horas_trabalhadas_mes\n",
    "imposto_sindical = 0.03\n",
    "ir = 0\n",
    "if salario_bruto > 4664.68:\n",
    "    ir = 0.275\n",
    "elif salario_bruto > 3751.05:\n",
    "    ir = 0.225\n",
    "elif salario_bruto > 2826.65:\n",
    "    ir = 0.15\n",
    "elif salario_bruto > 2112:\n",
    "    ir = 0.075\n",
    "else: \n",
    "    ir = 0 \n",
    "\n",
    "salario_liquido = salario_bruto*(1 - imposto_sindical - ir)\n",
    "\n",
    "print(f\"O seu salário bruto é de R${salario_bruto} e o líquido é de R${salario_liquido} \")"
   ]
  }
 ],
 "metadata": {
  "kernelspec": {
   "display_name": "Python 3",
   "language": "python",
   "name": "python3"
  },
  "language_info": {
   "codemirror_mode": {
    "name": "ipython",
    "version": 3
   },
   "file_extension": ".py",
   "mimetype": "text/x-python",
   "name": "python",
   "nbconvert_exporter": "python",
   "pygments_lexer": "ipython3",
   "version": "3.11.8"
  }
 },
 "nbformat": 4,
 "nbformat_minor": 2
}
