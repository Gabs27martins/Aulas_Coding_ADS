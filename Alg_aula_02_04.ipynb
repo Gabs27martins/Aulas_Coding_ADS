{
 "cells": [
  {
   "cell_type": "code",
   "execution_count": 6,
   "metadata": {},
   "outputs": [
    {
     "name": "stdout",
     "output_type": "stream",
     "text": [
      "O número informado foi 13.5\n"
     ]
    }
   ],
   "source": [
    "# Exercício 1\n",
    "asked_number = float(input(\"Favor informar um número\"))\n",
    "print(f'O número informado foi {asked_number}')"
   ]
  },
  {
   "cell_type": "code",
   "execution_count": 32,
   "metadata": {},
   "outputs": [
    {
     "name": "stdout",
     "output_type": "stream",
     "text": [
      "3\n",
      "794.0\n"
     ]
    }
   ],
   "source": [
    "#  Exercício 2\n",
    "num1 = float(input(\"Favor informar um número\"))\n",
    "num2 = float(input(\"Favor informar outro número\"))\n",
    "soma = num1 + num2\n",
    "print(f'A soma é {soma}')\n",
    "\n",
    "# Resolução por lista \n",
    "# nums = input(\"Favor informar dois números:\")\n",
    "# find_space = nums.find(\" \")\n",
    "# soma_nums = float(nums[:find_space]) + float(nums[find_space:])\n",
    "# print(soma_nums)\n",
    "# print(f'Soma via lista é:{soma_nums}')\n",
    "\n"
   ]
  },
  {
   "cell_type": "code",
   "execution_count": 20,
   "metadata": {},
   "outputs": [
    {
     "name": "stdout",
     "output_type": "stream",
     "text": [
      "A média do aluno é: 7.43\n"
     ]
    }
   ],
   "source": [
    "#  Exercício 3\n",
    "nota1 = float(input(\"Favor informar a nota da primeira unidade\"))\n",
    "nota2 = float(input(\"Favor informar a nota da segunda unidade\"))\n",
    "nota3 = float(input(\"Favor informar a nota da terceira unidade\"))\n",
    "media = (nota1+nota2+nota3)/3\n",
    "print(f\"A média do aluno é: {round(media,2)}\")"
   ]
  },
  {
   "cell_type": "code",
   "execution_count": 28,
   "metadata": {},
   "outputs": [
    {
     "name": "stdout",
     "output_type": "stream",
     "text": [
      "O seu salário no mês vigente é de: $1412.0\n"
     ]
    }
   ],
   "source": [
    "# Exercício 4\n",
    "salario_hora = float(input(\"Qual o seu salário por hora?\"))\n",
    "horas_trabalhada_mes = float(input(\"Quantas horas você trabalhou neste mês?\"))\n",
    "salario_mes = salario_hora*horas_trabalhada_mes\n",
    "print(f\"O seu salário no mês vigente é de: ${round(salario_mes,2)}\")"
   ]
  },
  {
   "cell_type": "code",
   "execution_count": 42,
   "metadata": {},
   "outputs": [
    {
     "name": "stdout",
     "output_type": "stream",
     "text": [
      "Você não ultrapassou a cota do regulamento\n"
     ]
    }
   ],
   "source": [
    "# Exercício 5 / Desafio\n",
    "\n",
    "# Perguntar a quantidade de quilos pescados por João\n",
    "quilos_pescados = float(input(\"Quantos quilos você pescou João?\"))\n",
    "excesso = ''\n",
    "multa_total = ''\n",
    "# Verificar se há o excesso de quilos pescados, via if/else\n",
    "if(quilos_pescados > 50):\n",
    "    # Após verificar se existe excesso e aplique a multa de 4 reais por quilo\n",
    "    excesso = quilos_pescados - 50\n",
    "    multa_total = excesso * 4\n",
    "    # Exebir o valor da multa para João\n",
    "    print(f'João você pescou {quilos_pescados} Kg de peixe, gerando um excesso de {round(excesso,2)}Kg e com isso terá que pagar uma multa de ${round(multa_total,2)} reais')\n",
    "else:\n",
    "    # Caso não haja informe que não haverá multa\n",
    "    print(\"Você não ultrapassou a cota do regulamento\")"
   ]
  },
  {
   "cell_type": "code",
   "execution_count": null,
   "metadata": {},
   "outputs": [],
   "source": []
  }
 ],
 "metadata": {
  "kernelspec": {
   "display_name": "Python 3",
   "language": "python",
   "name": "python3"
  },
  "language_info": {
   "codemirror_mode": {
    "name": "ipython",
    "version": 3
   },
   "file_extension": ".py",
   "mimetype": "text/x-python",
   "name": "python",
   "nbconvert_exporter": "python",
   "pygments_lexer": "ipython3",
   "version": "3.10.11"
  }
 },
 "nbformat": 4,
 "nbformat_minor": 2
}
