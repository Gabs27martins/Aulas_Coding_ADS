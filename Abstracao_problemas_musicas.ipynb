{
 "cells": [
  {
   "cell_type": "code",
   "execution_count": 14,
   "metadata": {},
   "outputs": [
    {
     "name": "stdout",
     "output_type": "stream",     
   "source": [
    "# Cinco patinhos repetição\n",
    "\n",
    "\n",
    "for patinho in range(5,0,-1):    \n",
    "    if patinho == 2:\n",
    "        print(f\"{patinho} patinhos foram passear. Além das montanhas para brincar. A mamãe gritou: Quá, quá, quá, quá. Mas só {patinho-1} patinho voltou de lá\")\n",
    "    elif patinho == 1:\n",
    "         print(f\"{patinho} patinho foi passear. Além das montanhas para brincar. A mamãe gritou: Quá, quá, quá, quá. Mas nenhum patinho voltou de lá\")\n",
    "    else:\n",
    "        print(f\"{patinho} patinhos foram passear. Além das montanhas para brincar. A mamãe gritou: Quá, quá, quá, quá. Mas só {patinho-1} patinhos voltaram de lá\")\n",
    "\n",
    "# Para alegria geral da nação o resto da música.\n",
    "\n",
    "print(\"Poxa, a mamãe patinha ficou tão triste naquele dia. Aonde será que estavam os seus filhotinhos? Mas essa história vai ter um final feliz. Sabe por quê?\")\n",
    "print(\"A mamãe patinha foi procurar. Além das montanhas, na beira do mar. A mamãe gritou: Quá, quá, quá, quá! E os 5 patinhos voltaram de lá\")  \n",
    "                "
   ]
  },
  {
   "cell_type": "code",
   "execution_count": 20,
   "metadata": {},
   "outputs": [
    {
     "name": "stdout",
     "output_type": "stream",     
    }
   ],
   "source": [
    "#  Um Elefante Incomoda repetição.\n",
    "#  Parte crescente e par.\n",
    "str_repeticao = \"incomodam, \"\n",
    "for elefante in range(1,11):\n",
    "    if elefante == 1:\n",
    "        print(f\"{elefante} elefante incomoda muita gente.\")\n",
    "    elif elefante%2==0:\n",
    "        print(f\"{elefante} elefantes {str_repeticao*elefante}muito mais!\")\n",
    "    else:\n",
    "        print(f\"{elefante} elefantes incomodam muita gente.\")\n",
    "\n",
    "# Parte decrescente e ímpar.\n",
    "for elefante in range(10,0,-1):\n",
    "    if elefante == 1:\n",
    "        print(f\"{elefante} elefante incomoda muito menos!\")\n",
    "    elif elefante%2!=0:\n",
    "        print(f\"{elefante} elefantes {str_repeticao*elefante}muito menos!\")\n",
    "    else:\n",
    "        print(f\"{elefante} elefantes incomodam muita gente.\")         "
   ]
  },
  {
   "cell_type": "code",
   "execution_count": 31,
   "metadata": {},
   "outputs": [
    {
     "name": "stdout",
     "output_type": "stream",
     "text": [
      "Mariana conta um. Mariana conta um, é um, é um, é. Ana, viva a Mariana, viva a Mariana\n",
      "Mariana conta dois. Mariana conta dois, é um, é dois, é. Ana, viva a Mariana, viva a Mariana\n",
      "Mariana conta três. Mariana conta três, é um, é dois, é três, é. Ana, viva a Mariana, viva a Mariana\n",
      "Mariana conta quatro. Mariana conta quatro, é um, é dois, é três, é quatro, é. Ana, viva a Mariana, viva a Mariana\n",
      "Mariana conta cinco. Mariana conta cinco, é um, é dois, é três, é quatro, é cinco, é. Ana, viva a Mariana, viva a Mariana\n",
      "Mariana conta seis. Mariana conta seis, é um, é dois, é três, é quatro, é cinco, é seis, é. Ana, viva a Mariana, viva a Mariana\n",
      "Mariana conta sete. Mariana conta sete, é um, é dois, é três, é quatro, é cinco, é seis, é sete, é. Ana, viva a Mariana, viva a Mariana\n",
      "Mariana conta oito. Mariana conta oito, é um, é dois, é três, é quatro, é cinco, é seis, é sete, é oito, é. Ana, viva a Mariana, viva a Mariana\n",
      "Mariana conta nove. Mariana conta nove, é um, é dois, é três, é quatro, é cinco, é seis, é sete, é oito, é nove, é. Ana, viva a Mariana, viva a Mariana\n",
      "Mariana conta dez. Mariana conta dez, é um, é dois, é três, é quatro, é cinco, é seis, é sete, é oito, é nove, é dez, é. Ana, viva a Mariana, viva a Mariana\n"
     ]
    }
   ],
   "source": [
    "#  Viva mariana repetição\n",
    "lista_valores = [\"um\",\"dois\", \"três\", \"quatro\", \"cinco\", \"seis\", \"sete\", \"oito\", \"nove\", \"dez\"]\n",
    "# print(', é '.join(lista_valores))\n",
    "\n",
    "for index, valor in enumerate(lista_valores):\n",
    "    if index == 0:\n",
    "        print(f\"Mariana conta {valor}. Mariana conta {valor}, é {valor}, é {valor}, é. Ana, viva a Mariana, viva a Mariana\")\n",
    "    else:\n",
    "         print(f\"Mariana conta {valor}. Mariana conta {valor}, é {', é '.join(lista_valores[:index+1])}, é. Ana, viva a Mariana, viva a Mariana\")   "
   ]
  }
 ],
 "metadata": {
  "kernelspec": {
   "display_name": "Python 3",
   "language": "python",
   "name": "python3"
  },
  "language_info": {
   "codemirror_mode": {
    "name": "ipython",
    "version": 3
   },
   "file_extension": ".py",
   "mimetype": "text/x-python",
   "name": "python",
   "nbconvert_exporter": "python",
   "pygments_lexer": "ipython3",
   "version": "3.11.8"
  }
 },
 "nbformat": 4,
 "nbformat_minor": 2
}
