{
 "cells": [
  {
   "cell_type": "code",
   "execution_count": 38,
   "metadata": {},
   "outputs": [],
   "source": [
    "idade1 = 20\n",
    "idade2 = 31\n",
    "# Preferência nas operações\n",
    "# Parêntesis\n",
    "# Expoente\n",
    "# Multiplicação\n",
    "# Divisão\n",
    "# Adição\n",
    "# Subtracão"
   ]
  },
  {
   "cell_type": "code",
   "execution_count": 33,
   "metadata": {},
   "outputs": [
    {
     "name": "stdout",
     "output_type": "stream",
     "text": [
      "37\n",
      "58\n"
     ]
    }
   ],
   "source": [
    "somaIdades = idade1 + idade2\n",
    "print(idade1 + 10)\n",
    "print(somaIdades) "
   ]
  },
  {
   "cell_type": "code",
   "execution_count": 34,
   "metadata": {},
   "outputs": [
    {
     "name": "stdout",
     "output_type": "stream",
     "text": [
      "-4\n",
      "16\n"
     ]
    }
   ],
   "source": [
    "subtracaoIdades = idade1 - idade2\n",
    "print(subtracaoIdades)\n",
    "print(idade2 - 15)"
   ]
  },
  {
   "cell_type": "code",
   "execution_count": 67,
   "metadata": {},
   "outputs": [
    {
     "name": "stdout",
     "output_type": "stream",
     "text": [
      "620\n",
      "80\n"
     ]
    }
   ],
   "source": [
    "multIdades = idade1 * idade2\n",
    "print(multIdades)\n",
    "print(idade1*4)"
   ]
  },
  {
   "cell_type": "code",
   "execution_count": 26,
   "metadata": {},
   "outputs": [
    {
     "name": "stdout",
     "output_type": "stream",
     "text": [
      "0.8709677419354839\n"
     ]
    }
   ],
   "source": [
    "divIdades = (idade1 / idade2)\n",
    "print(divIdades)"
   ]
  },
  {
   "cell_type": "code",
   "execution_count": 52,
   "metadata": {},
   "outputs": [
    {
     "name": "stdout",
     "output_type": "stream",
     "text": [
      "400\n",
      "8000\n",
      "21474836480000000000000000000000000000000\n"
     ]
    }
   ],
   "source": [
    "expIdades = idade1 ** idade2\n",
    "print(idade1**2)\n",
    "print(idade1**3)\n",
    "print(expIdades)"
   ]
  },
  {
   "cell_type": "code",
   "execution_count": 62,
   "metadata": {},
   "outputs": [
    {
     "name": "stdout",
     "output_type": "stream",
     "text": [
      "1\n"
     ]
    }
   ],
   "source": [
    "parteInteiraIdades = idade2 // idade1\n",
    "print(parteInteiraIdades)"
   ]
  },
  {
   "cell_type": "code",
   "execution_count": 84,
   "metadata": {},
   "outputs": [
    {
     "name": "stdout",
     "output_type": "stream",
     "text": [
      "11\n"
     ]
    }
   ],
   "source": [
    "moduloIdades = idade2 % idade1\n",
    "print(moduloIdades)"
   ]
  },
  {
   "cell_type": "code",
   "execution_count": 57,
   "metadata": {},
   "outputs": [
    {
     "name": "stdout",
     "output_type": "stream",
     "text": [
      "102\n",
      "63.25\n",
      "33.25\n"
     ]
    }
   ],
   "source": [
    "calculo1 = 2*(idade1 + idade2)\n",
    "calculo2 = 2*idade1+3*idade2/4\n",
    "calculo3 = (2*idade1+3*idade2)/4\n",
    "\n",
    "print(calculo1)\n",
    "print(calculo2)\n",
    "print(calculo3)"
   ]
  },
  {
   "cell_type": "code",
   "execution_count": 96,
   "metadata": {},
   "outputs": [
    {
     "name": "stdout",
     "output_type": "stream",
     "text": [
      "FulanoDa Silva\n",
      "Olá, Fulano \n",
      "você tem 35 anos.\n",
      "Olá, Fulano você tem 35 anos.\n"
     ]
    }
   ],
   "source": [
    "# Concatenação\n",
    "nome = 'Fulano'\n",
    "sobrenome = 'Da Silva'\n",
    "print(nome+ sobrenome)\n",
    "print('Olá,', nome, '\\n''você tem', idade1+15, 'anos.')\n",
    "print(f'Olá, {nome} você tem {idade1+15} anos.')"
   ]
  },
  {
   "cell_type": "code",
   "execution_count": 105,
   "metadata": {},
   "outputs": [
    {
     "name": "stdout",
     "output_type": "stream",
     "text": [
      "54\n",
      "<class 'int'>\n"
     ]
    }
   ],
   "source": [
    "# Input \n",
    "# Todo output do input será str\n",
    "idadeUsuario = int(input('Digite a sua idade:')) \n",
    "print(idadeUsuario)\n",
    "print(type(idadeUsuario))"
   ]
  },
  {
   "cell_type": "code",
   "execution_count": 121,
   "metadata": {},
   "outputs": [
    {
     "name": "stdout",
     "output_type": "stream",
     "text": [
      "14\n"
     ]
    }
   ],
   "source": [
    "num1 = 12\n",
    "num1 += 2 \n",
    "print(num1)  "
   ]
  }
 ],
 "metadata": {
  "kernelspec": {
   "display_name": "venv",
   "language": "python",
   "name": "python3"
  },
  "language_info": {
   "codemirror_mode": {
    "name": "ipython",
    "version": 3
   },
   "file_extension": ".py",
   "mimetype": "text/x-python",
   "name": "python",
   "nbconvert_exporter": "python",
   "pygments_lexer": "ipython3",
   "version": "3.10.8"
  }
 },
 "nbformat": 4,
 "nbformat_minor": 2
}
