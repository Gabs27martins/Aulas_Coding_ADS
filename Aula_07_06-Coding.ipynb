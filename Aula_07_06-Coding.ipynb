{
 "cells": [
  {
   "cell_type": "code",
   "execution_count": 5,
   "metadata": {},
   "outputs": [
    {
     "name": "stdout",
     "output_type": "stream",
     "text": [
      "Número 1\n",
      "Número 2\n",
      "Número 3\n",
      "Número 4\n",
      "Número 5\n"
     ]
    }
   ],
   "source": [
    "#  Funções\n",
    "def funcaoLeitura():\n",
    "    for num in range(5):\n",
    "        print(\"Número\", num+1)\n",
    "\n",
    "funcaoLeitura()        "
   ]
  },
  {
   "cell_type": "code",
   "execution_count": 13,
   "metadata": {},
   "outputs": [
    {
     "name": "stdout",
     "output_type": "stream",
     "text": [
      "O primeiro número é: 15\n",
      "O segundo número é: 10\n",
      "A soma dos números é: 25\n"
     ]
    }
   ],
   "source": [
    "# Função para somar dois números\n",
    "def addNum(n1,n2):\n",
    "    print(\"O primeiro número é:\",n1)\n",
    "    print(\"O segundo número é:\",n2)\n",
    "    print(\"A soma dos números é:\",n1+n2)\n",
    "\n",
    "addNum(n2=10,n1=15)"
   ]
  },
  {
   "cell_type": "code",
   "execution_count": 12,
   "metadata": {},
   "outputs": [
    {
     "name": "stdout",
     "output_type": "stream",
     "text": [
      "Variável da função multiplica: 20\n",
      "10\n"
     ]
    }
   ],
   "source": [
    "#  Variável Global X Local\n",
    "# Global\n",
    "varGlobal = 10  \n",
    "def multiplicacao(num1, num2):\n",
    "    # Local\n",
    "    varGlobal = (num1 * num2)\n",
    "    print('Variável da função multiplica:', varGlobal)\n",
    "\n",
    "multiplicacao(5,4)\n",
    "print(varGlobal)      "
   ]
  },
  {
   "cell_type": "code",
   "execution_count": 18,
   "metadata": {},
   "outputs": [
    {
     "name": "stdout",
     "output_type": "stream",
     "text": [
      "Variável da função multiplica: 20\n",
      "20\n",
      "algo\n"
     ]
    }
   ],
   "source": [
    "varGlobal = 10  \n",
    "def multiplicacao(num1, num2):\n",
    "    # Local\n",
    "    varLocal = (num1 * num2)\n",
    "    print('Variável da função multiplica:', varLocal)\n",
    "    print(varLocal)   \n",
    "\n",
    "multiplicacao(5,4)"
   ]
  },
  {
   "cell_type": "code",
   "execution_count": 5,
   "metadata": {},
   "outputs": [],
   "source": [
    "def separarTexto(texto):\n",
    "    return texto.split()\n",
    "\n",
    "separarTexto('Cibelly Maria Suely')"
   ]
  },
  {
   "cell_type": "code",
   "execution_count": 12,
   "metadata": {},
   "outputs": [
    {
     "name": "stdout",
     "output_type": "stream",
     "text": [
      "Parametro 0 Cibele\n",
      "Parametro 1 Suely\n",
      "Parametro 2 Giggio\n",
      "Parametro 3 Madá\n",
      "Parametro 4 Luke\n",
      "Parametro 5 Leia\n",
      "Parametro 6 1\n",
      "Parametro 7 5\n"
     ]
    }
   ],
   "source": [
    "# Quando não sabemos a quantidade de parâmetros basta usar * \n",
    "def variosParametros(*parametros):\n",
    "    for index, item in enumerate(parametros):\n",
    "        print(\"Parametro\", index, item)\n",
    "    return   \n",
    "\n",
    "variosParametros('Cibele', 'Suely', 'Giggio', 'Madá', 'Luke', 'Leia', 1,5) "
   ]
  },
  {
   "cell_type": "code",
   "execution_count": 17,
   "metadata": {},
   "outputs": [],
   "source": [
    "#  Calculadora\n",
    "\n",
    "def soma(n1,n2):\n",
    "    return n1+n2\n",
    "\n",
    "def subtrai(n1,n2):\n",
    "    return n1-n2\n",
    "\n",
    "def multiplica(n1,n2):\n",
    "    return n1*n2\n",
    "\n",
    "def divide(n1,n2):\n",
    "    return n1/n2\n",
    "\n",
    "# def calculadora(n1,n2, operacao):\n",
    "#     if operacao.lower() == 'soma':\n",
    "#         return soma(n1,n2)\n",
    "#     elif operacao.lower() == 'subtrai':\n",
    "#         return subtrai(n1,n2)\n",
    "#     elif operacao.lower() == 'multiplica':\n",
    "#         return multiplica(n1, n2)\n",
    "#     elif operacao.lower() == 'divide':\n",
    "#         return divide(n1,n2)\n",
    "#     else:\n",
    "#         pass\n"
   ]
  },
  {
   "cell_type": "code",
   "execution_count": 31,
   "metadata": {},
   "outputs": [
    {
     "name": "stdout",
     "output_type": "stream",
     "text": [
      "+=================+\n",
      "| MENU DE OPERAÇÕES\n",
      "| 1 - somar        \n",
      "| 2 - subtrair     \n",
      "| 3 - multiplicar  \n",
      "| 4 - dividir      \n",
      "| 0 - sair         \n",
      "+=================+\n",
      "Operação inválida\n"
     ]
    }
   ],
   "source": [
    "flag = True\n",
    "while flag:\n",
    "    print(\"+=================+\")\n",
    "    print(\"| MENU DE OPERAÇÕES\")\n",
    "    print(\"| 1 - somar        \")\n",
    "    print(\"| 2 - subtrair     \")\n",
    "    print(\"| 3 - multiplicar  \")\n",
    "    print(\"| 4 - dividir      \")\n",
    "    print(\"| 0 - sair         \")\n",
    "    print(\"+=================+\")\n",
    "    \n",
    "    \n",
    "    op = int(input())\n",
    "    if op == 0:\n",
    "        break\n",
    "\n",
    "    n1 = float(input(\"Primeiro número: \"))     \n",
    "    n2 = float(input(\"Segundo número: \"))\n",
    "\n",
    "    if op == 1:\n",
    "        print(f\"O resultado da some é: {soma(n1,n2)}\")\n",
    "    elif op == 2:\n",
    "        print(f\"O resultado da subtração é: {subtrai(n1,n2)}\")\n",
    "    elif op == 3:\n",
    "        print(f\"O resultado da multiplicação é: {multiplica(n1,n2)}\")\n",
    "    elif op == 4:\n",
    "        print(f\"O resultado da divisão é: {divide(n1,n2)}\")\n",
    "    else:\n",
    "        print(\"Operação inválida\")\n",
    "        flag = False    \n",
    "                \n",
    "\n"
   ]
  }
 ],
 "metadata": {
  "kernelspec": {
   "display_name": "Python 3",
   "language": "python",
   "name": "python3"
  },
  "language_info": {
   "codemirror_mode": {
    "name": "ipython",
    "version": 3
   },
   "file_extension": ".py",
   "mimetype": "text/x-python",
   "name": "python",
   "nbconvert_exporter": "python",
   "pygments_lexer": "ipython3",
   "version": "3.10.2"
  }
 },
 "nbformat": 4,
 "nbformat_minor": 2
}
