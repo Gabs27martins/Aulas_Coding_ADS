{
 "cells": [
  {
   "cell_type": "code",
   "execution_count": 4,
   "metadata": {},
   "outputs": [
    {
     "name": "stdout",
     "output_type": "stream",
     "text": [
      "Funciona\n"
     ]
    }
   ],
   "source": [
    "test = int(input('Um numero entre 0 e 5'))\n",
    "if (0<=test<=5):\n",
    "    print('Funciona')\n"
   ]
  },
  {
   "cell_type": "code",
   "execution_count": 8,
   "metadata": {},
   "outputs": [
    {
     "name": "stdout",
     "output_type": "stream",
     "text": [
      "O IPVA do seu automóvel é de: $2250.0!\n"
     ]
    }
   ],
   "source": [
    "# Desafio Aula\n",
    "# Perguntar o ano e o valor do carro ao dono\n",
    "ano_carro = int(input(\"Informe o ano do seu carro (Ex: 2010)!\"))\n",
    "valor_carro = float(input(\"Informe o valor do seu carro!\"))\n",
    "imposto_total = 0\n",
    "# Verificar se o carro foi fabricado antes 90\n",
    "if(ano_carro <1990):\n",
    "# Aplicar o imposto dadas as condições do ano de fabricação 1% ou 1.5%\n",
    "    imposto_total = valor_carro * 0.01\n",
    "    print(f'O IPVA do seu automóvel é de: ${imposto_total}!')\n",
    "else:\n",
    "    imposto_total = valor_carro * 0.015\n",
    "    print(f'O IPVA do seu automóvel é de: ${imposto_total}!')    "
   ]
  },
  {
   "cell_type": "code",
   "execution_count": 26,
   "metadata": {},
   "outputs": [
    {
     "name": "stdout",
     "output_type": "stream",
     "text": [
      "O seu salário antigo é: 1500.0\n",
      "O salário reajustado é: 1650.0000000000002\n",
      "A diferença entre eles é: 150.0\n"
     ]
    }
   ],
   "source": [
    "# Prática 7\n",
    "# Perguntando o salário dos funcionários\n",
    "salario_funcionario = float(input(\"Favor informar seu salário\"))\n",
    "cargo = int(input(\"Favor informar o código do seu cargo (Ex: 101, 010, 105)\"))\n",
    "# Reajustando os salários e realizando os prints\n",
    "if cargo == 101:\n",
    "    novo_salario = salario_funcionario * 1.1\n",
    "    dif_salario = salario_funcionario * 0.1\n",
    "    print('O seu salário antigo é: '+str(salario_funcionario)+'\\nO salário reajustado é: '+ str(novo_salario) +'\\nA diferença entre eles é: '+ str(dif_salario))\n",
    "elif cargo == 102:\n",
    "    novo_salario = salario_funcionario * 1.2\n",
    "    dif_salario = salario_funcionario * 0.2\n",
    "    print('O seu salário antigo é: '+str(salario_funcionario)+'\\nO salário reajustado é: '+ str(novo_salario) +'\\nA diferença entre eles é: '+ str(dif_salario))\n",
    "elif cargo == 103:\n",
    "    novo_salario = salario_funcionario * 1.3\n",
    "    dif_salario = salario_funcionario * 0.3\n",
    "    print('O seu salário antigo é: '+str(salario_funcionario)+'\\nO salário reajustado é: '+ str(novo_salario) +'\\nA diferença entre eles é: '+ str(dif_salario))\n",
    "else:\n",
    "    novo_salario = salario_funcionario * 1.4\n",
    "    dif_salario = salario_funcionario * 0.4\n",
    "    print('O seu salário antigo é: '+str(salario_funcionario)+'\\nO salário reajustado é: '+ str(novo_salario) +'\\nA diferença entre eles é: '+ str(dif_salario))          "
   ]
  },
  {
   "cell_type": "code",
   "execution_count": 44,
   "metadata": {},
   "outputs": [
    {
     "name": "stdout",
     "output_type": "stream",
     "text": [
      "Lucas\n"
     ]
    }
   ],
   "source": [
    "   \n"
   ]
  }
 ],
 "metadata": {
  "kernelspec": {
   "display_name": "Python 3",
   "language": "python",
   "name": "python3"
  },
  "language_info": {
   "codemirror_mode": {
    "name": "ipython",
    "version": 3
   },
   "file_extension": ".py",
   "mimetype": "text/x-python",
   "name": "python",
   "nbconvert_exporter": "python",
   "pygments_lexer": "ipython3",
   "version": "3.10.11"
  }
 },
 "nbformat": 4,
 "nbformat_minor": 2
}
