{
 "cells": [
  {
   "cell_type": "code",
   "execution_count": 19,
   "metadata": {},
   "outputs": [
    {
     "name": "stdout",
     "output_type": "stream",
     "text": [
      "[]\n"
     ]
    }
   ],
   "source": [
    "# Criando Lista\n",
    "l = []\n",
    "l = list()\n",
    "print(l)"
   ]
  },
  {
   "cell_type": "code",
   "execution_count": 28,
   "metadata": {},
   "outputs": [
    {
     "data": {
      "text/plain": [
       "3"
      ]
     },
     "execution_count": 28,
     "metadata": {},
     "output_type": "execute_result"
    }
   ],
   "source": [
    "# Acessando os itens da lista\n",
    "dias = [3,1,10]\n",
    "dias[0]"
   ]
  },
  {
   "cell_type": "code",
   "execution_count": 30,
   "metadata": {},
   "outputs": [
    {
     "data": {
      "text/plain": [
       "[7, 8, 9]"
      ]
     },
     "execution_count": 30,
     "metadata": {},
     "output_type": "execute_result"
    }
   ],
   "source": [
    "# Modificando listas:\n",
    "z = [3,8,9]\n",
    "z[0] = 7\n",
    "z"
   ]
  },
  {
   "cell_type": "code",
   "execution_count": 39,
   "metadata": {},
   "outputs": [
    {
     "data": {
      "text/plain": [
       "[6, 7, 5, 8, 9]"
      ]
     },
     "execution_count": 39,
     "metadata": {},
     "output_type": "execute_result"
    }
   ],
   "source": [
    "v = [6,7,5,8,9]\n",
    "z = v\n",
    "z"
   ]
  },
  {
   "cell_type": "code",
   "execution_count": 50,
   "metadata": {},
   "outputs": [
    {
     "name": "stdout",
     "output_type": "stream",
     "text": [
      "True\n",
      "False\n",
      "[81, 82, 83]\n",
      "[5, 82, 83]\n"
     ]
    }
   ],
   "source": [
    "# Clonando listas\n",
    "a = [81,82,83]\n",
    "b = a[:]\n",
    "print(a==b)\n",
    "print(a is b)\n",
    "b[0] = 5\n",
    "print(a)\n",
    "print(b)"
   ]
  },
  {
   "cell_type": "code",
   "execution_count": 63,
   "metadata": {},
   "outputs": [
    {
     "name": "stdout",
     "output_type": "stream",
     "text": [
      "['b', 'c']\n",
      "['a', 'b', 'c', 'd']\n",
      "['d', 'e', 'f']\n",
      "['a', 'b', 'c', 'd', 'e', 'f']\n",
      "[]\n"
     ]
    }
   ],
   "source": [
    "# Fatiando listas\n",
    "uma_lista = ['a','b','c','d','e','f']\n",
    "print(uma_lista[1:3])\n",
    "print(uma_lista[:4])\n",
    "print(uma_lista[3:])\n",
    "print(uma_lista[:])"
   ]
  },
  {
   "cell_type": "code",
   "execution_count": 85,
   "metadata": {},
   "outputs": [
    {
     "name": "stdout",
     "output_type": "stream",
     "text": [
      "[76, 92.3, 'oi', 'Cibele', True, 4, 76, 'pitomba', 76]\n",
      "[76, 92.3, 'oi', 'Cibele', 4, 76, 'pitomba', 76]\n"
     ]
    }
   ],
   "source": [
    "# Praticar Listas - 2\n",
    "#  a) Inserir 'pitomba' e 76 no final da lista\n",
    "\n",
    "minhaLista = [76,92.3,'oi', True,4,76]\n",
    "listaAdd = ['pitomba',76]\n",
    "minhaLista+=listaAdd\n",
    "minhaLista\n",
    "\n",
    "# b) Inserir Cibele na posição de índice 3\n",
    "nome = ['Cibele']\n",
    "novaLista = minhaLista[:3] + nome + minhaLista[3:]\n",
    "print(novaLista)\n",
    "\n",
    "# c) Inserir X na posição de índice 0\n",
    "valor = [99]\n",
    "# print(valor+ novaLista)\n",
    "\n",
    "# d) econtrar o índice da palavra 'oi'\n",
    "indice = 0;\n",
    "if(novaLista[1]=='oi'):\n",
    "    indice=1\n",
    "elif(novaLista[2]=='oi'):\n",
    "    indice=2\n",
    "elif(novaLista[3]=='oi'):\n",
    "    indice=3\n",
    "elif(novaLista[4]=='oi'):\n",
    "    indice=4\n",
    "elif(novaLista[5]=='oi'):\n",
    "    indice=5\n",
    "elif(novaLista[6]=='oi'):\n",
    "    indice=6\n",
    "elif(novaLista[7]=='oi'):\n",
    "    indice=7              \n",
    "else:\n",
    "    print('fora de range')\n",
    "print(indice)\n",
    "\n",
    "# e) remover o True da lista\n",
    "\n",
    "if(novaLista[0]==True):\n",
    "    print(novaLista[1:])\n",
    "elif(novaLista[1]==True):\n",
    "    print(novaLista[:1] + novaLista[2:])\n",
    "elif(novaLista[2]==True):\n",
    "    print(novaLista[:3] + novaLista[3:])\n",
    "elif(novaLista[3]==True):\n",
    "    print(novaLista[:4] + novaLista[4:])\n",
    "elif(novaLista[4]==True):\n",
    "    print(novaLista[:4] + novaLista[5:])    \n",
    "elif(novaLista[5]==True):\n",
    "    print(novaLista[:5] + novaLista[6:])   "
   ]
  }
 ],
 "metadata": {
  "kernelspec": {
   "display_name": "Python 3",
   "language": "python",
   "name": "python3"
  },
  "language_info": {
   "codemirror_mode": {
    "name": "ipython",
    "version": 3
   },
   "file_extension": ".py",
   "mimetype": "text/x-python",
   "name": "python",
   "nbconvert_exporter": "python",
   "pygments_lexer": "ipython3",
   "version": "3.10.11"
  }
 },
 "nbformat": 4,
 "nbformat_minor": 2
}
